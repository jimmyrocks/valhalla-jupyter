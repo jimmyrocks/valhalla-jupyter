{
 "cells": [
  {
   "cell_type": "code",
   "execution_count": 1,
   "metadata": {},
   "outputs": [],
   "source": [
    "# Code to decode Valhalla Geometries\n",
    "\n",
    "import sys\n",
    "\n",
    "#six degrees of precision in valhalla\n",
    "inv = 1.0 / 1e6;\n",
    "\n",
    "#decode an encoded string\n",
    "def decode_geometry(encoded):\n",
    "  decoded = []\n",
    "  previous = [0,0]\n",
    "  i = 0\n",
    "  #for each byte\n",
    "  while i < len(encoded):\n",
    "    #for each coord (lat, lon)\n",
    "    ll = [0,0]\n",
    "    for j in [0, 1]:\n",
    "      shift = 0\n",
    "      byte = 0x20\n",
    "      #keep decoding bytes until you have this coord\n",
    "      while byte >= 0x20:\n",
    "        byte = ord(encoded[i]) - 63\n",
    "        i += 1\n",
    "        ll[j] |= (byte & 0x1f) << shift\n",
    "        shift += 5\n",
    "      #get the final value adding the previous offset and remember it for the next\n",
    "      ll[j] = previous[j] + (~(ll[j] >> 1) if ll[j] & 1 else (ll[j] >> 1))\n",
    "      previous[j] = ll[j]\n",
    "    #scale by the precision and chop off long coords also flip the positions so\n",
    "    #its the far more standard lon,lat instead of lat,lon\n",
    "    decoded.append([float('%.6f' % (ll[0] * inv)), float('%.6f' % (ll[1] * inv))])\n",
    "  #hand back the list of coordinates\n",
    "  return decoded"
   ]
  },
  {
   "cell_type": "code",
   "execution_count": 18,
   "metadata": {},
   "outputs": [
    {
     "name": "stdout",
     "output_type": "stream",
     "text": [
      "34.854\n",
      "2502\n"
     ]
    }
   ],
   "source": [
    "# Load the path from Valhalla\n",
    "\n",
    "import requests\n",
    "import json\n",
    "\n",
    "url = \"http://valhalla:8002/route\"\n",
    "data =  {\n",
    "    \"locations\":[\n",
    "        {\n",
    "            \"lat\":40.222884,\n",
    "            \"lon\":-74.010232,\n",
    "            \"type\":\"break\",\n",
    "            \"city\":\"Asbury Park\",\n",
    "            \"state\":\"NJ\"\n",
    "        },{\n",
    "            \"lat\":40.486678,\n",
    "            \"lon\":-74.444414,\n",
    "            \"type\":\"break\",\n",
    "            \"city\":\"New Brunswick\",\n",
    "            \"state\":\"NJ\"\n",
    "        }\n",
    "    ],\n",
    "    \"costing\":\"auto\",\n",
    "    \"directions_options\":{\n",
    "        \"units\":\"miles\"\n",
    "    }\n",
    "}\n",
    "\n",
    "data_json = json.dumps(data)\n",
    "response = requests.post(url, data=data_json)\n",
    "response_obj = json.loads(response.text)\n",
    "distance = response_obj['trip']['summary']['length']\n",
    "time_in_seconds = response_obj['trip']['summary']['time']\n",
    "west = response_obj['trip']['summary']['min_lon']\n",
    "south = response_obj['trip']['summary']['min_lat']\n",
    "east = response_obj['trip']['summary']['max_lon']\n",
    "north = response_obj['trip']['summary']['max_lat']\n",
    "geometry = decode_geometry(response_obj['trip']['legs'][0]['shape'])\n",
    "print (distance)\n",
    "print (time_in_seconds)"
   ]
  },
  {
   "cell_type": "code",
   "execution_count": 19,
   "metadata": {},
   "outputs": [
    {
     "data": {
      "application/vnd.jupyter.widget-view+json": {
       "model_id": "6b933dfe88f34aedbb7da9abb24cae0f",
       "version_major": 2,
       "version_minor": 0
      },
      "text/plain": [
       "Map(basemap={'url': 'https://{s}.tile.openstreetmap.org/{z}/{x}/{y}.png', 'max_zoom': 19, 'attribution': 'Map …"
      ]
     },
     "metadata": {},
     "output_type": "display_data"
    }
   ],
   "source": [
    "# Draw Path on a leaflet map\n",
    "\n",
    "from ipyleaflet import Map, basemaps, basemap_to_tiles, Polyline\n",
    "\n",
    "m = Map(\n",
    "    layers=(basemap_to_tiles(basemaps.CartoDB.DarkMatter), ),\n",
    "    center=((north+south)/2, (east+west)/2),\n",
    "    zoom=10\n",
    ")\n",
    "\n",
    "line = Polyline(\n",
    "    locations = geometry,\n",
    "    color = \"blue\",\n",
    "    fill = False)\n",
    "\n",
    "m.add_layer(line)\n",
    "\n",
    "\n",
    "m"
   ]
  },
  {
   "cell_type": "code",
   "execution_count": null,
   "metadata": {},
   "outputs": [],
   "source": []
  }
 ],
 "metadata": {
  "kernelspec": {
   "display_name": "Python 3",
   "language": "python",
   "name": "python3"
  },
  "language_info": {
   "codemirror_mode": {
    "name": "ipython",
    "version": 3
   },
   "file_extension": ".py",
   "mimetype": "text/x-python",
   "name": "python",
   "nbconvert_exporter": "python",
   "pygments_lexer": "ipython3",
   "version": "3.7.1"
  }
 },
 "nbformat": 4,
 "nbformat_minor": 2
}
