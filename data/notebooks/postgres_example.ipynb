{
 "cells": [
  {
   "cell_type": "code",
   "execution_count": 2,
   "metadata": {},
   "outputs": [],
   "source": [
    "# Load the path from Valhalla\n",
    "\n",
    "import requests\n",
    "import json\n",
    "\n",
    "def get_distance(pointA, pointB):\n",
    "    url = \"http://valhalla:8002/route\"\n",
    "    data =  {\n",
    "        \"locations\":[\n",
    "            {\n",
    "                \"lat\":pointA[1],\n",
    "                \"lon\":pointA[0],\n",
    "                \"type\":\"break\"\n",
    "            },{\n",
    "                \"lat\":pointB[1],\n",
    "                \"lon\":pointB[0],\n",
    "                \"type\":\"break\"\n",
    "            }\n",
    "        ],\n",
    "        \"costing\":\"pedestrian\",\n",
    "        \"directions_options\":{\n",
    "            \"units\":\"miles\"\n",
    "        }\n",
    "    }\n",
    "\n",
    "    data_json = json.dumps(data)\n",
    "    response = requests.post(url, data=data_json)\n",
    "    response_obj = json.loads(response.text)\n",
    "    #distance = response_obj['trip']['summary']['length']\n",
    "    time_in_seconds = response_obj['trip']['summary']['time']\n",
    "    #west = response_obj['trip']['summary']['min_lon']\n",
    "    #south = response_obj['trip']['summary']['min_lat']\n",
    "    #east = response_obj['trip']['summary']['max_lon']\n",
    "    #north = response_obj['trip']['summary']['max_lat']\n",
    "    #geometry = decode_geometry(response_obj['trip']['legs'][0]['shape'])\n",
    "    return time_in_seconds/60"
   ]
  },
  {
   "cell_type": "code",
   "execution_count": 17,
   "metadata": {},
   "outputs": [
    {
     "name": "stdout",
     "output_type": "stream",
     "text": [
      "[('Jonti S Latin & Soul Food', -74.0112807855013, 40.2177291886759, 760.528083688581, 6.9), ('Pascal & Sabine', -74.0102024478343, 40.2170361010522, 852.559714144463, 9.016666666666667), ('Cardinal Provisions', -74.0093831842951, 40.2168760670453, 880.965369533937, 9.9), ('Barrio Costero', -74.0104997003618, 40.2167567101032, 893.780302984483, 9.116666666666667), ('The Bonney Read', -74.0094819989764, 40.2165348702625, 929.381059187401, 10.666666666666666), (\"Lola's European Cafe\", -74.0097496070995, 40.2164179135915, 944.201640732824, 10.9), ('Cross & Orange', -74.0086790847755, 40.2164337593459, 956.12091627585, 11.066666666666666), ('Asbury Ale House', -74.0100469494586, 40.2163148817998, 957.914888938367, 10.566666666666666), ('Toast Asbury Park', -74.0088406018635, 40.2163919841674, 959.043693106551, 10.9), ('Brickwall Tavern & Dining Room', -74.009011191936, 40.2163384103786, 963.891752771227, 10.7), (\"DJ's Delights Deli & Restaurant\", -74.0112886906758, 40.2161490153772, 988.894427663788, 9.566666666666666), ('Twisted Tree Cafe', -74.0109639497006, 40.2160476980946, 999.968517183353, 10.666666666666666), (\"Talula's\", -74.0096664231042, 40.2160243066084, 1002.03326542301, 11.133333333333333), ('Moonstruck', -74.0087279531269, 40.2160545577665, 1009.6229146213, 12.783333333333333), ('Capitoline', -74.0116454116751, 40.2159987886142, 1016.0299860377, 10.116666666666667), ('Juice Beach', -74.0122477320731, 40.2158963735571, 1043.1239344411, 9.65), ('Asbury Festhalle & Biergarten', -74.0095932104086, 40.2156962761769, 1050.28338441573, 11.75), ('Belmontes Ristorante', -74.0112413494603, 40.2156630065861, 1058.70265776897, 11.033333333333333), ('Frutta Bowls', -74.0114337685942, 40.215678921114, 1058.88828203082, 10.633333333333333), ('MOGO Korean Fusion Tacos', -74.0113202215423, 40.2156593709391, 1060.19697223689, 10.966666666666667), ('Taka', -74.0120135412786, 40.2155815131688, 1082.91793688988, 10.383333333333333), (\"Brando's Citi Cucina\", -74.0131646424836, 40.2156230144584, 1107.75066583951, 11.45), ('Crust & Crumble Pizza', -74.0117468314707, 40.2152609577237, 1124.05427814649, 11.283333333333333), (\"Pop's Garage\", -73.9998508913208, 40.2207973744371, 1194.99068525222, 11.533333333333333), ('Cubacan Restaurant & Bar', -74.000631078145, 40.218782319829, 1224.68479516967, 12.466666666666667), ('Stella Marina Bar & Restaurant', -74.0008042733318, 40.218251606332, 1248.01076445163, 13.116666666666667), ('Asbury Oyster Bar', -73.9983457640622, 40.2235748098574, 1326.99735490436, 14.35), (\"The Anchor's Bend\", -73.9982259288033, 40.2239856573295, 1346.1262818133, 14.9), ('Dunes', -74.0008601485425, 40.2165123706957, 1396.87980846684, 15.516666666666667), (\"McGuillicuddy's Lakeside Tap House\", -74.0079530663628, 40.2327378997856, 1458.97202411162, 15.316666666666666)]\n"
     ]
    }
   ],
   "source": [
    "import psycopg2\n",
    "conn = psycopg2.connect(host=\"postgres\",database=\"osm\", user=\"osm\", password=\"osm\")\n",
    "cursor = conn.cursor()\n",
    "lat = 40.222884\n",
    "lon = -74.010232\n",
    "distance_in_meters = 2000\n",
    "amenity = 'restaurant'\n",
    "cursor.execute(\"\"\"\n",
    "select * FROM (\n",
    "    select\n",
    "     name,\n",
    "     ST_X(ST_Transform(way, 4326)) as lon,\n",
    "     ST_Y(ST_Transform(way, 4326)) as lat,\n",
    "     ST_DISTANCE(\n",
    "         way,\n",
    "         ST_TRANSFORM(\n",
    "             ST_SETSRID(\n",
    "                 ST_GeomFromText(\n",
    "                     'POINT(%f %f)'\n",
    "                 ),\n",
    "             4326),\n",
    "         3857)\n",
    "     ) AS distance\n",
    "    FROM\n",
    "       planet_osm_point\n",
    "    WHERE\n",
    "      amenity = '%s'\n",
    ") AS subquery WHERE distance < %f \n",
    "ORDER BY distance;\n",
    "\"\"\" % (lon, lat, amenity, distance_in_meters))\n",
    "pointA = [lon, lat]\n",
    "returned_data = []\n",
    "for record in cursor:\n",
    "    pointB = [record[1], record[2]]\n",
    "    time = get_distance(pointA, pointB)\n",
    "    print (record[0], \"(%f min)\" % time, record[3])\n",
    "    returned_data.append(record + (time,))\n",
    "    \n",
    "cursor.close()\n"
   ]
  },
  {
   "cell_type": "code",
   "execution_count": 18,
   "metadata": {},
   "outputs": [],
   "source": [
    "import pandas as pd\n",
    "import geopandas as gpd\n",
    "from shapely.geometry import Point\n",
    "\n",
    "# Bring the returned data into a pandas dataframe\n",
    "df = pd.DataFrame(returned_data, columns = [\"Name\", \"Lon\", \"Lat\", \"Distance\", \"Time\"])\n",
    "\n",
    "# zip the lon and lat into a coordinates column\n",
    "df['Coordinates'] = list(zip(df.Lon, df.Lat))\n",
    "\n",
    "# Now we can get rid of those lon and lat columns\n",
    "df.drop('Lon', axis=1, inplace=True)\n",
    "df.drop('Lat', axis=1, inplace=True)\n",
    "\n",
    "# GeoPandas needs a Shapely geometry, so convert that lon,lat to a Point\n",
    "df['Coordinates'] = df['Coordinates'].apply(Point)\n",
    "\n",
    "gdf = gpd.GeoDataFrame(df, geometry='Coordinates')\n"
   ]
  },
  {
   "cell_type": "code",
   "execution_count": 28,
   "metadata": {
    "scrolled": true
   },
   "outputs": [
    {
     "data": {
      "application/vnd.jupyter.widget-view+json": {
       "model_id": "eb32d35e29044301b42d6b7f091ddece",
       "version_major": 2,
       "version_minor": 0
      },
      "text/plain": [
       "Map(basemap={'url': 'https://{s}.tile.openstreetmap.org/{z}/{x}/{y}.png', 'max_zoom': 19, 'attribution': 'Map …"
      ]
     },
     "metadata": {},
     "output_type": "display_data"
    }
   ],
   "source": [
    "# Draw Path on a leaflet map\n",
    "\n",
    "from ipyleaflet import Map, basemaps, basemap_to_tiles, GeoJSON, Popup\n",
    "from ipywidgets import HTML\n",
    "from shapely.geometry import shape, MultiPoint\n",
    "import json\n",
    "import math\n",
    "\n",
    "# This isn't a ipyleaflet function for some reason!\n",
    "def fitBounds(m, geojson):\n",
    "    # Center the map on our shape!\n",
    "    # Draw a buffer around the whole thing\n",
    "    polygon = MultiPoint(list(map(lambda x: x['geometry']['coordinates'],geojson['features']))).convex_hull\n",
    "    new_bounds = polygon.buffer(0.001).bounds\n",
    "    new_center = [(new_bounds[1] + new_bounds[3]) / 2, (new_bounds[0] + new_bounds[2]) / 2]\n",
    "    new_zoom = math.floor(\n",
    "            min(math.log(180/(new_bounds[2] - new_bounds[0]), 2), math.log(360/(new_bounds[3] - new_bounds[1]), 2)))\n",
    "\n",
    "    m.center = new_center\n",
    "    m.zoom = new_zoom\n",
    "    return m\n",
    "\n",
    "m = Map(\n",
    "    layers=(basemap_to_tiles(basemaps.CartoDB.DarkMatter), )\n",
    ")\n",
    "\n",
    "out_data = json.loads(gdf.to_json())\n",
    "geo_json = GeoJSON(data=out_data)\n",
    "m.add_layer(geo_json)\n",
    "\n",
    "m = fitBounds(m, out_data)\n",
    "\n",
    "\n",
    "m"
   ]
  },
  {
   "cell_type": "code",
   "execution_count": 29,
   "metadata": {},
   "outputs": [
    {
     "name": "stdout",
     "output_type": "stream",
     "text": [
      "                                  Name     Distance       Time  \\\n",
      "0            Jonti S Latin & Soul Food   760.528084   6.900000   \n",
      "1                      Pascal & Sabine   852.559714   9.016667   \n",
      "2                  Cardinal Provisions   880.965370   9.900000   \n",
      "3                       Barrio Costero   893.780303   9.116667   \n",
      "4                      The Bonney Read   929.381059  10.666667   \n",
      "5                 Lola's European Cafe   944.201641  10.900000   \n",
      "6                       Cross & Orange   956.120916  11.066667   \n",
      "7                     Asbury Ale House   957.914889  10.566667   \n",
      "8                    Toast Asbury Park   959.043693  10.900000   \n",
      "9       Brickwall Tavern & Dining Room   963.891753  10.700000   \n",
      "10     DJ's Delights Deli & Restaurant   988.894428   9.566667   \n",
      "11                   Twisted Tree Cafe   999.968517  10.666667   \n",
      "12                            Talula's  1002.033265  11.133333   \n",
      "13                          Moonstruck  1009.622915  12.783333   \n",
      "14                          Capitoline  1016.029986  10.116667   \n",
      "15                         Juice Beach  1043.123934   9.650000   \n",
      "16       Asbury Festhalle & Biergarten  1050.283384  11.750000   \n",
      "17                Belmontes Ristorante  1058.702658  11.033333   \n",
      "18                        Frutta Bowls  1058.888282  10.633333   \n",
      "19            MOGO Korean Fusion Tacos  1060.196972  10.966667   \n",
      "20                                Taka  1082.917937  10.383333   \n",
      "21                Brando's Citi Cucina  1107.750666  11.450000   \n",
      "22               Crust & Crumble Pizza  1124.054278  11.283333   \n",
      "23                        Pop's Garage  1194.990685  11.533333   \n",
      "24            Cubacan Restaurant & Bar  1224.684795  12.466667   \n",
      "25      Stella Marina Bar & Restaurant  1248.010764  13.116667   \n",
      "26                   Asbury Oyster Bar  1326.997355  14.350000   \n",
      "27                   The Anchor's Bend  1346.126282  14.900000   \n",
      "28                               Dunes  1396.879808  15.516667   \n",
      "29  McGuillicuddy's Lakeside Tap House  1458.972024  15.316667   \n",
      "\n",
      "                                    Coordinates  \n",
      "0    POINT (-74.0112807855013 40.2177291886759)  \n",
      "1    POINT (-74.0102024478343 40.2170361010522)  \n",
      "2    POINT (-74.0093831842951 40.2168760670453)  \n",
      "3   POINT (-74.01049970036181 40.2167567101032)  \n",
      "4    POINT (-74.0094819989764 40.2165348702625)  \n",
      "5   POINT (-74.00974960709949 40.2164179135915)  \n",
      "6   POINT (-74.00867908477549 40.2164337593459)  \n",
      "7    POINT (-74.0100469494586 40.2163148817998)  \n",
      "8    POINT (-74.0088406018635 40.2163919841674)  \n",
      "9     POINT (-74.009011191936 40.2163384103786)  \n",
      "10   POINT (-74.0112886906758 40.2161490153772)  \n",
      "11   POINT (-74.0109639497006 40.2160476980946)  \n",
      "12  POINT (-74.00966642310421 40.2160243066084)  \n",
      "13  POINT (-74.00872795312689 40.2160545577665)  \n",
      "14   POINT (-74.0116454116751 40.2159987886142)  \n",
      "15  POINT (-74.01224773207311 40.2158963735571)  \n",
      "16   POINT (-74.0095932104086 40.2156962761769)  \n",
      "17  POINT (-74.01124134946031 40.2156630065861)  \n",
      "18    POINT (-74.0114337685942 40.215678921114)  \n",
      "19  POINT (-74.01132022154231 40.2156593709391)  \n",
      "20  POINT (-74.01201354127861 40.2155815131688)  \n",
      "21   POINT (-74.0131646424836 40.2156230144584)  \n",
      "22   POINT (-74.0117468314707 40.2152609577237)  \n",
      "23   POINT (-73.9998508913208 40.2207973744371)  \n",
      "24   POINT (-74.00063107814501 40.218782319829)  \n",
      "25    POINT (-74.0008042733318 40.218251606332)  \n",
      "26  POINT (-73.99834576406219 40.2235748098574)  \n",
      "27  POINT (-73.99822592880329 40.2239856573295)  \n",
      "28   POINT (-74.0008601485425 40.2165123706957)  \n",
      "29   POINT (-74.0079530663628 40.2327378997856)  \n"
     ]
    }
   ],
   "source": [
    "print(gdf)"
   ]
  },
  {
   "cell_type": "code",
   "execution_count": null,
   "metadata": {},
   "outputs": [],
   "source": []
  },
  {
   "cell_type": "code",
   "execution_count": null,
   "metadata": {},
   "outputs": [],
   "source": []
  }
 ],
 "metadata": {
  "kernelspec": {
   "display_name": "Python 3",
   "language": "python",
   "name": "python3"
  },
  "language_info": {
   "codemirror_mode": {
    "name": "ipython",
    "version": 3
   },
   "file_extension": ".py",
   "mimetype": "text/x-python",
   "name": "python",
   "nbconvert_exporter": "python",
   "pygments_lexer": "ipython3",
   "version": "3.7.2"
  }
 },
 "nbformat": 4,
 "nbformat_minor": 2
}
