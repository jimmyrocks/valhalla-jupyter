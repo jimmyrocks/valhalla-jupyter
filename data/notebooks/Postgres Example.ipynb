{
 "cells": [
  {
   "cell_type": "code",
   "execution_count": 29,
   "metadata": {},
   "outputs": [],
   "source": [
    "# Load the path from Valhalla\n",
    "\n",
    "import requests\n",
    "import json\n",
    "\n",
    "def get_distance(pointA, pointB):\n",
    "    url = \"http://valhalla:8002/route\"\n",
    "    data =  {\n",
    "        \"locations\":[\n",
    "            {\n",
    "                \"lat\":pointA[1],\n",
    "                \"lon\":pointA[0],\n",
    "                \"type\":\"break\"\n",
    "            },{\n",
    "                \"lat\":pointB[1],\n",
    "                \"lon\":pointB[0],\n",
    "                \"type\":\"break\"\n",
    "            }\n",
    "        ],\n",
    "        \"costing\":\"pedestrian\",\n",
    "        \"directions_options\":{\n",
    "            \"units\":\"miles\"\n",
    "        }\n",
    "    }\n",
    "\n",
    "    data_json = json.dumps(data)\n",
    "    response = requests.post(url, data=data_json)\n",
    "    response_obj = json.loads(response.text)\n",
    "    #distance = response_obj['trip']['summary']['length']\n",
    "    time_in_seconds = response_obj['trip']['summary']['time']\n",
    "    #west = response_obj['trip']['summary']['min_lon']\n",
    "    #south = response_obj['trip']['summary']['min_lat']\n",
    "    #east = response_obj['trip']['summary']['max_lon']\n",
    "    #north = response_obj['trip']['summary']['max_lat']\n",
    "    #geometry = decode_geometry(response_obj['trip']['legs'][0]['shape'])\n",
    "    return time_in_seconds/60"
   ]
  },
  {
   "cell_type": "code",
   "execution_count": 32,
   "metadata": {},
   "outputs": [
    {
     "name": "stdout",
     "output_type": "stream",
     "text": [
      "Jonti S Latin & Soul Food (6.900000 min) 760.528083688581\n",
      "Pascal & Sabine (9.016667 min) 852.559714144463\n",
      "Cardinal Provisions (9.900000 min) 880.965369533937\n",
      "Barrio Costero (9.116667 min) 893.780302984483\n",
      "The Bonney Read (10.666667 min) 929.381059187401\n",
      "Lola's European Cafe (10.900000 min) 944.201640732824\n",
      "Cross & Orange (11.066667 min) 956.12091627585\n",
      "Asbury Ale House (10.566667 min) 957.914888938367\n",
      "Toast Asbury Park (10.900000 min) 959.043693106551\n",
      "Brickwall Tavern & Dining Room (10.700000 min) 963.891752771227\n",
      "DJ's Delights Deli & Restaurant (9.566667 min) 988.894427663788\n",
      "Twisted Tree Cafe (10.666667 min) 999.968517183353\n"
     ]
    }
   ],
   "source": [
    "import psycopg2\n",
    "conn = psycopg2.connect(host=\"postgres\",database=\"osm\", user=\"osm\", password=\"osm\")\n",
    "cursor = conn.cursor()\n",
    "lat = 40.222884\n",
    "lon = -74.010232\n",
    "distance_in_meters = 1000\n",
    "amenity = 'restaurant'\n",
    "cursor.execute(\"\"\"\n",
    "select * FROM (\n",
    "    select\n",
    "     name,\n",
    "     ST_X(ST_Transform(way, 4326)) as lon,\n",
    "     ST_Y(ST_Transform(way, 4326)) as lat,\n",
    "     ST_DISTANCE(\n",
    "         way,\n",
    "         ST_TRANSFORM(\n",
    "             ST_SETSRID(\n",
    "                 ST_GeomFromText(\n",
    "                     'POINT(%f %f)'\n",
    "                 ),\n",
    "             4326),\n",
    "         3857)\n",
    "     ) AS distance\n",
    "    FROM\n",
    "       planet_osm_point\n",
    "    WHERE\n",
    "      amenity = '%s'\n",
    ") AS subquery WHERE distance < %f \n",
    "ORDER BY distance;\n",
    "\"\"\" % (lon, lat, amenity, distance_in_meters))\n",
    "pointA = [lon, lat]\n",
    "for record in cursor:\n",
    "    pointB = [record[1], record[2]]\n",
    "    time = get_distance(pointA, pointB)\n",
    "    print (record[0], \"(%f min)\" % time, record[3])\n",
    "    \n",
    "cursor.close()\n"
   ]
  },
  {
   "cell_type": "code",
   "execution_count": null,
   "metadata": {},
   "outputs": [],
   "source": []
  },
  {
   "cell_type": "code",
   "execution_count": null,
   "metadata": {},
   "outputs": [],
   "source": []
  },
  {
   "cell_type": "code",
   "execution_count": null,
   "metadata": {},
   "outputs": [],
   "source": []
  }
 ],
 "metadata": {
  "kernelspec": {
   "display_name": "Python 3",
   "language": "python",
   "name": "python3"
  },
  "language_info": {
   "codemirror_mode": {
    "name": "ipython",
    "version": 3
   },
   "file_extension": ".py",
   "mimetype": "text/x-python",
   "name": "python",
   "nbconvert_exporter": "python",
   "pygments_lexer": "ipython3",
   "version": "3.7.1"
  }
 },
 "nbformat": 4,
 "nbformat_minor": 2
}
